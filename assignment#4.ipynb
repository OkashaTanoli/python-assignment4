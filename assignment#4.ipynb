{
 "cells": [
  {
   "cell_type": "code",
   "execution_count": 11,
   "id": "11554e31",
   "metadata": {},
   "outputs": [
    {
     "name": "stdout",
     "output_type": "stream",
     "text": [
      "Enter First Number:\t324\n",
      "Enter Operator e.g: \"+\" , \"-\" , \"*\" , \"/\" , \"^\" :\twere\n",
      "Enter Second Number:\t34\n",
      "Enter Correct operator\n"
     ]
    }
   ],
   "source": [
    "#Q No 1:  Make a calculator using Python with addition , subtraction , multiplication ,division and power.\n",
    "\n",
    "firstVal = int(input('Enter First Number:\\t'))\n",
    "operator = input('Enter Operator e.g: \"+\" , \"-\" , \"*\" , \"/\" , \"^\" :\\t')\n",
    "secondVal = int(input('Enter Second Number:\\t'))\n",
    "if operator == '+':\n",
    "    print(firstVal + secondVal)\n",
    "elif operator == '-':\n",
    "    print(firstVal - secondVal)\n",
    "elif operator == '*':\n",
    "    print(firstVal * secondVal)\n",
    "elif operator == '/':\n",
    "    print(firstVal / secondVal)\n",
    "elif operator == '^':\n",
    "    print(firstVal ** secondVa)\n",
    "else:\n",
    "    print('Please Enter Correct operator !')\n"
   ]
  },
  {
   "cell_type": "code",
   "execution_count": 16,
   "id": "a1249a91",
   "metadata": {},
   "outputs": [
    {
     "name": "stdout",
     "output_type": "stream",
     "text": [
      "Numeric Value Found\n"
     ]
    }
   ],
   "source": [
    "#Q No 2: Write a program to check if there is any numeric value in list using for loop.\n",
    "\n",
    "a = ['a','d','v',3,'f',4]\n",
    "for i in a:\n",
    "    if type(i) == int:\n",
    "        print('Numeric Value Found')\n",
    "        break"
   ]
  },
  {
   "cell_type": "code",
   "execution_count": 17,
   "id": "a0467ed1",
   "metadata": {},
   "outputs": [
    {
     "name": "stdout",
     "output_type": "stream",
     "text": [
      "{'name': 'okasha', 'class': 12, 'subject': 'Computer', 'college': 'FG Boys Inter College'}\n"
     ]
    }
   ],
   "source": [
    "#Q No 3: Write a Python script to add a key to a dictionary.\n",
    "\n",
    "a = {'name':'okasha','class':12,'subject':'Computer'}\n",
    "a['college'] = 'FG Boys Inter College'\n",
    "\n",
    "print(a)"
   ]
  },
  {
   "cell_type": "code",
   "execution_count": 30,
   "id": "7fb205e0",
   "metadata": {},
   "outputs": [
    {
     "name": "stdout",
     "output_type": "stream",
     "text": [
      "90\n"
     ]
    }
   ],
   "source": [
    "# Q No 4: Write a Python program to sum all the numeric items in a dictionary.\n",
    "\n",
    "a = {1:'abc',2:3,3:56,4:'xyz',5:33}\n",
    "add = 0\n",
    "for i in a.values():\n",
    "    if type(i) == int:\n",
    "        add+=i\n",
    "print(add)"
   ]
  },
  {
   "cell_type": "code",
   "execution_count": 15,
   "id": "fc8f289a",
   "metadata": {},
   "outputs": [
    {
     "name": "stdout",
     "output_type": "stream",
     "text": [
      "ali is duplicated\n",
      "2 is duplicated\n",
      "abc is duplicated\n"
     ]
    }
   ],
   "source": [
    "#Q No 5 Write a program to identify duplicate values from list.\n",
    "\n",
    "a = ['abc','ali','xyz','ali',2,45,12,2,'abc']\n",
    "b=[]\n",
    "for i in a:\n",
    "    if i not in b:\n",
    "        b.append(i)\n",
    "    else:\n",
    "        print(str(i) + \" is duplicated\")\n",
    "\n"
   ]
  },
  {
   "cell_type": "code",
   "execution_count": 29,
   "id": "0612459d",
   "metadata": {},
   "outputs": [
    {
     "name": "stdout",
     "output_type": "stream",
     "text": [
      "Enter key to check whether it is in dictionary or not:\tjmds\n",
      "jmds is not available in Dict\n"
     ]
    }
   ],
   "source": [
    "#Q No 6: Write a Python script to check if a given key already exists in a dictionary\n",
    "\n",
    "a = {'name':'okasha','class':12,'sub':'computer',12:23}\n",
    "b = input('Enter key to check whether it is in dictionary or not:\\t')\n",
    "answewr = False\n",
    "for i in a.keys():\n",
    "    if str(i) == b:\n",
    "        answer = True\n",
    "        break\n",
    "    else:\n",
    "        answer = False\n",
    "\n",
    "if answer:\n",
    "    print('Yes '+ b + ' is available in Dict' )\n",
    "else:\n",
    "    print(b + ' is not available in Dict')   "
   ]
  },
  {
   "cell_type": "code",
   "execution_count": null,
   "id": "897286af",
   "metadata": {},
   "outputs": [],
   "source": []
  }
 ],
 "metadata": {
  "kernelspec": {
   "display_name": "Python 3",
   "language": "python",
   "name": "python3"
  },
  "language_info": {
   "codemirror_mode": {
    "name": "ipython",
    "version": 3
   },
   "file_extension": ".py",
   "mimetype": "text/x-python",
   "name": "python",
   "nbconvert_exporter": "python",
   "pygments_lexer": "ipython3",
   "version": "3.8.8"
  }
 },
 "nbformat": 4,
 "nbformat_minor": 5
}
